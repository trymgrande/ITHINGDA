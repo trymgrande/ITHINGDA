{
 "cells": [
  {
   "cell_type": "markdown",
   "metadata": {},
   "source": [
    "# Task 3 - DBSCAN Clustering\n",
    "\n",
    "## Packages\n",
    "Importing needed libraries"
   ]
  },
  {
   "cell_type": "code",
   "execution_count": 48,
   "metadata": {},
   "outputs": [],
   "source": [
    "%matplotlib inline\n",
    "import math\n",
    "import pandas as pd\n",
    "import csv\n",
    "import numpy as np\n",
    "from numpy import genfromtxt\n",
    "from sklearn.datasets import make_blobs\n",
    "from sklearn.cluster import DBSCAN\n",
    "import matplotlib.pyplot as plt"
   ]
  },
  {
   "cell_type": "markdown",
   "metadata": {},
   "source": [
    "# Task 3a"
   ]
  },
  {
   "cell_type": "markdown",
   "metadata": {},
   "source": [
    "## Plotting function"
   ]
  },
  {
   "cell_type": "code",
   "execution_count": 49,
   "metadata": {},
   "outputs": [],
   "source": [
    "def plot_clusters(data):\n",
    "    \"\"\"\n",
    "    Shows a scatter plot with the data points clustered.\n",
    "    \"\"\"\n",
    "    # get cluster ids from the data\n",
    "    cluster_ids = []\n",
    "    for p in data_points:\n",
    "        cluster_ids.append(p.cluster_id)\n",
    "\n",
    "    # load data\n",
    "    labels = cluster_ids\n",
    "    data_df = pd.read_csv ('points_dbscan.csv', header=0, usecols=['x', 'y'])\n",
    "    data = data_df.values\n",
    "    X = data\n",
    "\n",
    "    print(f\"labels: {labels}\")\n",
    "\n",
    "    # generate colors for graphing points (noise is marked with black, clusters are marked with distinct colors)\n",
    "    color_palette = {\n",
    "        -1: '#000000', # black\n",
    "        1: '#deeb34', # yellow\n",
    "        2: '#eb3434', # red\n",
    "        3: '#34eb46', # green\n",
    "        4: '#eb34d9', # pink\n",
    "        5: '#344feb' # blue\n",
    "    }\n",
    "    colors = list(map(lambda x: color_palette[x], labels))\n",
    "    \n",
    "    # Generate scatter plot for training data\n",
    "    plt.scatter(X[:,0], X[:,1], c=colors, marker=\"o\", picker=True)\n",
    "    plt.title('clustered data')\n",
    "    plt.xlabel('Axis X')\n",
    "    plt.ylabel('Axis y')\n",
    "    plt.show()"
   ]
  },
  {
   "cell_type": "markdown",
   "metadata": {},
   "source": [
    "## Loading the data"
   ]
  },
  {
   "cell_type": "code",
   "execution_count": 50,
   "metadata": {},
   "outputs": [
    {
     "name": "stdout",
     "output_type": "stream",
     "text": [
      "[[ 0 14  1]\n",
      " [ 1  1  8]\n",
      " [ 2  3 12]\n",
      " [ 3  5  1]\n",
      " [ 4 13 11]\n",
      " [ 5 12  6]\n",
      " [ 6  4 12]\n",
      " [ 7  1  8]\n",
      " [ 8  8  3]\n",
      " [ 9  5  1]\n",
      " [10 14 12]\n",
      " [11 12  9]\n",
      " [12  4  5]\n",
      " [13  8  4]\n",
      " [14  2  3]]\n"
     ]
    }
   ],
   "source": [
    "data_df = pd.read_csv ('points_dbscan.csv', header=0)\n",
    "data = data_df.values\n",
    "print(data)"
   ]
  },
  {
   "cell_type": "markdown",
   "metadata": {},
   "source": [
    "## Defining a data point class"
   ]
  },
  {
   "cell_type": "code",
   "execution_count": 51,
   "metadata": {},
   "outputs": [],
   "source": [
    "class Data_point:\n",
    "    def __init__(self, id, x, y) -> None:\n",
    "        self.id: int = id\n",
    "        self.x: float = x\n",
    "        self.y: float = y\n",
    "        self.cluster_id: int = None\n",
    "        self.edges = []\n",
    "        self.type: str = '' # core / border / noise\n",
    "\n",
    "    def __str__(self) -> str:\n",
    "        return f\"id:{self.id}, x:{self.x}, y:{self.y}, cluster_id:{self.cluster_id}, type:{self.type}\""
   ]
  },
  {
   "cell_type": "markdown",
   "metadata": {},
   "source": [
    "## Implementing euclidean distance (L2)"
   ]
  },
  {
   "cell_type": "code",
   "execution_count": 52,
   "metadata": {},
   "outputs": [],
   "source": [
    "def euclidian_distance(p: Data_point, q: Data_point):\n",
    "    return math.sqrt((p.x-q.x)**2 + (p.y-q.y)**2)"
   ]
  },
  {
   "cell_type": "markdown",
   "metadata": {},
   "source": [
    "# Implementing the DBSCAN clustering algorithm"
   ]
  },
  {
   "cell_type": "code",
   "execution_count": 53,
   "metadata": {},
   "outputs": [],
   "source": [
    "class Graph:\n",
    "    def __init__(self):\n",
    "        self.max_cluster_id = 0\n",
    "\n",
    "    def dbscan_clustering(self, data, eps=4, min_points=3):\n",
    "        \"\"\"\n",
    "        Description: \n",
    "            DBSCAN clustering algorithm.\n",
    "        Parameters:\n",
    "            data: data points\n",
    "            eps: (epsilon) radius of area being observed by each data point\n",
    "        Returns:\n",
    "            Array of clustered data points\n",
    "        \"\"\"\n",
    "        # convert from list to nodes\n",
    "        data_points = []\n",
    "        for p in data:\n",
    "            data_points.append(Data_point(p[0], p[1], p[2]))\n",
    "            \n",
    "        # enumerate all point combinations\n",
    "        p: Data_point; q: Data_point\n",
    "        for i, p in enumerate(data_points):\n",
    "            points_within_eps = 0\n",
    "            for j, q in enumerate(data_points):\n",
    "                if i == j: continue\n",
    "                if euclidian_distance(p, q) <= eps:\n",
    "                    points_within_eps += 1\n",
    "            # find core and border points\n",
    "            if points_within_eps >= min_points:\n",
    "                p.type = 'core'\n",
    "                if q.type != 'core':\n",
    "                    q.type = 'border'\n",
    "            # find noise points\n",
    "            elif points_within_eps < min_points and p.type != 'border':\n",
    "                p.type = 'noise'\n",
    "        \n",
    "\n",
    "        # put edge between overlapping core points\n",
    "        for i, p in enumerate(data_points):\n",
    "            if p.type == 'core':\n",
    "                for j, q in enumerate(data_points):\n",
    "                    if i == j: continue\n",
    "                    if euclidian_distance(p, q) <= eps:\n",
    "                        if q.type == 'core':\n",
    "                            p.edges.append(q)\n",
    "\n",
    "\n",
    "        # assign cluster ids\n",
    "        for i, p in enumerate(data_points):\n",
    "            if p.type == 'core':\n",
    "                self.assign_cluster_id(p)\n",
    "\n",
    "\n",
    "        # assign each border point to one of the clusters\n",
    "        for i, p in enumerate(data_points):\n",
    "            if p.type == 'border':\n",
    "                closest_core = float('inf')\n",
    "                for j, q in enumerate(data_points):\n",
    "                    if euclidian_distance(p, q) < closest_core:\n",
    "                        q = closest_core\n",
    "                p.cluster_id = q.cluster_id\n",
    "\n",
    "\n",
    "        # assign cluster_id -1 to noise points\n",
    "        for p in data_points:\n",
    "            if p.type == 'noise':\n",
    "                p.cluster_id = -1\n",
    "\n",
    "\n",
    "        return data_points\n",
    "\n",
    "\n",
    "    def assign_cluster_id(self, p: Data_point, increment_cluster_id=True):\n",
    "        \"\"\"\n",
    "        Assigns all connected cores to the same given cluster id. \n",
    "        Cluster id is only incremented on the first node in a cluster.\n",
    "        \"\"\"\n",
    "        q: Data_point\n",
    "        if p.cluster_id is not None: return\n",
    "        if increment_cluster_id:\n",
    "            self.max_cluster_id += 1\n",
    "        p.cluster_id = self.max_cluster_id\n",
    "        for q in p.edges:\n",
    "            self.assign_cluster_id(q, False)\n",
    "        return"
   ]
  },
  {
   "cell_type": "markdown",
   "metadata": {},
   "source": [
    "## Running the implemented code"
   ]
  },
  {
   "cell_type": "code",
   "execution_count": 54,
   "metadata": {},
   "outputs": [
    {
     "name": "stdout",
     "output_type": "stream",
     "text": [
      "id:0, x:14, y:1, cluster_id:-1, type:noise\n",
      "id:1, x:1, y:8, cluster_id:-1, type:noise\n",
      "id:2, x:3, y:12, cluster_id:-1, type:noise\n",
      "id:3, x:5, y:1, cluster_id:1, type:core\n",
      "id:4, x:13, y:11, cluster_id:-1, type:noise\n",
      "id:5, x:12, y:6, cluster_id:-1, type:noise\n",
      "id:6, x:4, y:12, cluster_id:-1, type:noise\n",
      "id:7, x:1, y:8, cluster_id:-1, type:noise\n",
      "id:8, x:8, y:3, cluster_id:1, type:core\n",
      "id:9, x:5, y:1, cluster_id:1, type:core\n",
      "id:10, x:14, y:12, cluster_id:-1, type:noise\n",
      "id:11, x:12, y:9, cluster_id:2, type:core\n",
      "id:12, x:4, y:5, cluster_id:-1, type:noise\n",
      "id:13, x:8, y:4, cluster_id:-1, type:noise\n",
      "id:14, x:2, y:3, cluster_id:1, type:core\n",
      "labels: [-1, -1, -1, 1, -1, -1, -1, -1, 1, 1, -1, 2, -1, -1, 1]\n"
     ]
    },
    {
     "data": {
      "image/png": "[encoded data removed]",
      "text/plain": [
       "<Figure size 432x288 with 1 Axes>"
      ]
     },
     "metadata": {
      "needs_background": "light"
     },
     "output_type": "display_data"
    }
   ],
   "source": [
    "graph = Graph()\n",
    "data_points = graph.dbscan_clustering(data)\n",
    "\n",
    "p: Data_point\n",
    "for p in data_points:\n",
    "    print(p)\n",
    "\n",
    "plot_clusters(data)"
   ]
  },
  {
   "cell_type": "markdown",
   "metadata": {},
   "source": [
    "# Task 3b - Implementation using online code"
   ]
  },
  {
   "cell_type": "code",
   "execution_count": 55,
   "metadata": {},
   "outputs": [
    {
     "name": "stdout",
     "output_type": "stream",
     "text": [
      "[-1 -1 -1  0  1  1 -1 -1  0  0  1  1  0  0  0]\n"
     ]
    },
    {
     "data": {
      "image/png": "[encoded data removed]",
      "text/plain": [
       "<Figure size 432x288 with 1 Axes>"
      ]
     },
     "metadata": {
      "needs_background": "light"
     },
     "output_type": "display_data"
    }
   ],
   "source": [
    "# https://github.com/christianversloot/machine-learning-articles/blob/main/performing-dbscan-clustering-with-python-and-scikit-learn.md\n",
    "\n",
    "# Configuration options\n",
    "epsilon = 4.0\n",
    "min_samples = 3\n",
    "\n",
    "# Load data\n",
    "data_df = pd.read_csv ('points_dbscan.csv', header=0, usecols=['x', 'y'])\n",
    "data = data_df.values\n",
    "X = data\n",
    "np.save('./clusters.npy', X)\n",
    "X = np.load('./clusters.npy')\n",
    "\n",
    "# Compute DBSCAN\n",
    "db = DBSCAN(eps=epsilon, min_samples=min_samples).fit(X)\n",
    "labels = db.labels_\n",
    "print(f\"labels: {labels}\")\n",
    "\n",
    "# Generate scatter plot for training data\n",
    "colors = list(map(lambda x: '#3b4cc0' if x == 1 else ('#000000' if x == -1 else '#b40426'), labels))\n",
    "plt.scatter(X[:,0], X[:,1], c=colors, marker=\"o\", picker=True)\n",
    "plt.title('clustered data')\n",
    "plt.xlabel('Axis X')\n",
    "plt.ylabel('Axis y')\n",
    "plt.show()"
   ]
  },
  {
   "cell_type": "markdown",
   "metadata": {},
   "source": [
    "# Results\n",
    "Our results from task 3a seem to vary a bit from our verified results in task 3b, likely due to some bug we were not able to find:\n",
    "\n",
    "|                  |    |    |    |   |    |    |    |    |   |   |    |   |    |    |   |\n",
    "|------------------|----|----|----|---|----|----|----|----|---|---|----|---|----|----|---|\n",
    "| Our results      | -1 | -1 | -1 | 1 | -1 | -1 | -1 | -1 | 1 | 1 | -1 | 2 | -1 | -1 | 1 |\n",
    "| Verified results | -1 | -1 | -1 | 0 | 1  | 1  | -1 | -1 | 0 | 0 | 1  | 1 | 0  | 0  | 0 |\n",
    "\n",
    "Clusters 0 and 1 seem to have been swapped between the different implementations. Normalizing for this, we get the slightly better results:\n",
    "\n",
    "|                  |    |    |    |   |    |    |    |    |   |   |    |   |    |    |   |\n",
    "|------------------|----|----|----|---|----|----|----|----|---|---|----|---|----|----|---|\n",
    "| Our results      | -1 | -1 | -1 | 0 | -1 | -1 | -1 | -1 | 0 | 0 | -1 | 2 | -1 | -1 | 0 |\n",
    "| Verified results | -1 | -1 | -1 | 0 | 1  | 1  | -1 | -1 | 0 | 0 | 1  | 1 | 0  | 0  | 0 |\n",
    "\n",
    "Task 3b was done both in python and KNIME, and was equal in both cases."
   ]
  }
 ],
 "metadata": {
  "interpreter": {
   "hash": "916dbcbb3f70747c44a77c7bcd40155683ae19c65e1c03b4aa3499c5328201f1"
  },
  "kernelspec": {
   "display_name": "Python 3.9.7 64-bit",
   "language": "python",
   "name": "python3"
  },
  "language_info": {
   "codemirror_mode": {
    "name": "ipython",
    "version": 3
   },
   "file_extension": ".py",
   "mimetype": "text/x-python",
   "name": "python",
   "nbconvert_exporter": "python",
   "pygments_lexer": "ipython3",
   "version": "3.9.7"
  },
  "orig_nbformat": 4
 },
 "nbformat": 4,
 "nbformat_minor": 2
}
