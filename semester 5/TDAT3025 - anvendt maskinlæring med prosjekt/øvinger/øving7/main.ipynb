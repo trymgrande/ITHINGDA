{
 "cells": [
  {
   "cell_type": "code",
   "execution_count": 35,
   "outputs": [
    {
     "data": {
      "text/plain": "      edibility_e  edibility_p  cap-shape_b  cap-shape_c  cap-shape_f  \\\n0               0            1            0            0            0   \n1               1            0            0            0            0   \n2               1            0            1            0            0   \n3               0            1            0            0            0   \n4               1            0            0            0            0   \n...           ...          ...          ...          ...          ...   \n8119            1            0            0            0            0   \n8120            1            0            0            0            0   \n8121            1            0            0            0            1   \n8122            0            1            0            0            0   \n8123            1            0            0            0            0   \n\n      cap-shape_k  cap-shape_s  cap-shape_x  cap-surface_f  cap-surface_g  \\\n0               0            0            1              0              0   \n1               0            0            1              0              0   \n2               0            0            0              0              0   \n3               0            0            1              0              0   \n4               0            0            1              0              0   \n...           ...          ...          ...            ...            ...   \n8119            1            0            0              0              0   \n8120            0            0            1              0              0   \n8121            0            0            0              0              0   \n8122            1            0            0              0              0   \n8123            0            0            1              0              0   \n\n      ...  population_s  population_v  population_y  habitat_d  habitat_g  \\\n0     ...             1             0             0          0          0   \n1     ...             0             0             0          0          1   \n2     ...             0             0             0          0          0   \n3     ...             1             0             0          0          0   \n4     ...             0             0             0          0          1   \n...   ...           ...           ...           ...        ...        ...   \n8119  ...             0             0             0          0          0   \n8120  ...             0             1             0          0          0   \n8121  ...             0             0             0          0          0   \n8122  ...             0             1             0          0          0   \n8123  ...             0             0             0          0          0   \n\n      habitat_l  habitat_m  habitat_p  habitat_u  habitat_w  \n0             0          0          0          1          0  \n1             0          0          0          0          0  \n2             0          1          0          0          0  \n3             0          0          0          1          0  \n4             0          0          0          0          0  \n...         ...        ...        ...        ...        ...  \n8119          1          0          0          0          0  \n8120          1          0          0          0          0  \n8121          1          0          0          0          0  \n8122          1          0          0          0          0  \n8123          1          0          0          0          0  \n\n[8124 rows x 119 columns]",
      "text/html": "<div>\n<style scoped>\n    .dataframe tbody tr th:only-of-type {\n        vertical-align: middle;\n    }\n\n    .dataframe tbody tr th {\n        vertical-align: top;\n    }\n\n    .dataframe thead th {\n        text-align: right;\n    }\n</style>\n<table border=\"1\" class=\"dataframe\">\n  <thead>\n    <tr style=\"text-align: right;\">\n      <th></th>\n      <th>edibility_e</th>\n      <th>edibility_p</th>\n      <th>cap-shape_b</th>\n      <th>cap-shape_c</th>\n      <th>cap-shape_f</th>\n      <th>cap-shape_k</th>\n      <th>cap-shape_s</th>\n      <th>cap-shape_x</th>\n      <th>cap-surface_f</th>\n      <th>cap-surface_g</th>\n      <th>...</th>\n      <th>population_s</th>\n      <th>population_v</th>\n      <th>population_y</th>\n      <th>habitat_d</th>\n      <th>habitat_g</th>\n      <th>habitat_l</th>\n      <th>habitat_m</th>\n      <th>habitat_p</th>\n      <th>habitat_u</th>\n      <th>habitat_w</th>\n    </tr>\n  </thead>\n  <tbody>\n    <tr>\n      <th>0</th>\n      <td>0</td>\n      <td>1</td>\n      <td>0</td>\n      <td>0</td>\n      <td>0</td>\n      <td>0</td>\n      <td>0</td>\n      <td>1</td>\n      <td>0</td>\n      <td>0</td>\n      <td>...</td>\n      <td>1</td>\n      <td>0</td>\n      <td>0</td>\n      <td>0</td>\n      <td>0</td>\n      <td>0</td>\n      <td>0</td>\n      <td>0</td>\n      <td>1</td>\n      <td>0</td>\n    </tr>\n    <tr>\n      <th>1</th>\n      <td>1</td>\n      <td>0</td>\n      <td>0</td>\n      <td>0</td>\n      <td>0</td>\n      <td>0</td>\n      <td>0</td>\n      <td>1</td>\n      <td>0</td>\n      <td>0</td>\n      <td>...</td>\n      <td>0</td>\n      <td>0</td>\n      <td>0</td>\n      <td>0</td>\n      <td>1</td>\n      <td>0</td>\n      <td>0</td>\n      <td>0</td>\n      <td>0</td>\n      <td>0</td>\n    </tr>\n    <tr>\n      <th>2</th>\n      <td>1</td>\n      <td>0</td>\n      <td>1</td>\n      <td>0</td>\n      <td>0</td>\n      <td>0</td>\n      <td>0</td>\n      <td>0</td>\n      <td>0</td>\n      <td>0</td>\n      <td>...</td>\n      <td>0</td>\n      <td>0</td>\n      <td>0</td>\n      <td>0</td>\n      <td>0</td>\n      <td>0</td>\n      <td>1</td>\n      <td>0</td>\n      <td>0</td>\n      <td>0</td>\n    </tr>\n    <tr>\n      <th>3</th>\n      <td>0</td>\n      <td>1</td>\n      <td>0</td>\n      <td>0</td>\n      <td>0</td>\n      <td>0</td>\n      <td>0</td>\n      <td>1</td>\n      <td>0</td>\n      <td>0</td>\n      <td>...</td>\n      <td>1</td>\n      <td>0</td>\n      <td>0</td>\n      <td>0</td>\n      <td>0</td>\n      <td>0</td>\n      <td>0</td>\n      <td>0</td>\n      <td>1</td>\n      <td>0</td>\n    </tr>\n    <tr>\n      <th>4</th>\n      <td>1</td>\n      <td>0</td>\n      <td>0</td>\n      <td>0</td>\n      <td>0</td>\n      <td>0</td>\n      <td>0</td>\n      <td>1</td>\n      <td>0</td>\n      <td>0</td>\n      <td>...</td>\n      <td>0</td>\n      <td>0</td>\n      <td>0</td>\n      <td>0</td>\n      <td>1</td>\n      <td>0</td>\n      <td>0</td>\n      <td>0</td>\n      <td>0</td>\n      <td>0</td>\n    </tr>\n    <tr>\n      <th>...</th>\n      <td>...</td>\n      <td>...</td>\n      <td>...</td>\n      <td>...</td>\n      <td>...</td>\n      <td>...</td>\n      <td>...</td>\n      <td>...</td>\n      <td>...</td>\n      <td>...</td>\n      <td>...</td>\n      <td>...</td>\n      <td>...</td>\n      <td>...</td>\n      <td>...</td>\n      <td>...</td>\n      <td>...</td>\n      <td>...</td>\n      <td>...</td>\n      <td>...</td>\n      <td>...</td>\n    </tr>\n    <tr>\n      <th>8119</th>\n      <td>1</td>\n      <td>0</td>\n      <td>0</td>\n      <td>0</td>\n      <td>0</td>\n      <td>1</td>\n      <td>0</td>\n      <td>0</td>\n      <td>0</td>\n      <td>0</td>\n      <td>...</td>\n      <td>0</td>\n      <td>0</td>\n      <td>0</td>\n      <td>0</td>\n      <td>0</td>\n      <td>1</td>\n      <td>0</td>\n      <td>0</td>\n      <td>0</td>\n      <td>0</td>\n    </tr>\n    <tr>\n      <th>8120</th>\n      <td>1</td>\n      <td>0</td>\n      <td>0</td>\n      <td>0</td>\n      <td>0</td>\n      <td>0</td>\n      <td>0</td>\n      <td>1</td>\n      <td>0</td>\n      <td>0</td>\n      <td>...</td>\n      <td>0</td>\n      <td>1</td>\n      <td>0</td>\n      <td>0</td>\n      <td>0</td>\n      <td>1</td>\n      <td>0</td>\n      <td>0</td>\n      <td>0</td>\n      <td>0</td>\n    </tr>\n    <tr>\n      <th>8121</th>\n      <td>1</td>\n      <td>0</td>\n      <td>0</td>\n      <td>0</td>\n      <td>1</td>\n      <td>0</td>\n      <td>0</td>\n      <td>0</td>\n      <td>0</td>\n      <td>0</td>\n      <td>...</td>\n      <td>0</td>\n      <td>0</td>\n      <td>0</td>\n      <td>0</td>\n      <td>0</td>\n      <td>1</td>\n      <td>0</td>\n      <td>0</td>\n      <td>0</td>\n      <td>0</td>\n    </tr>\n    <tr>\n      <th>8122</th>\n      <td>0</td>\n      <td>1</td>\n      <td>0</td>\n      <td>0</td>\n      <td>0</td>\n      <td>1</td>\n      <td>0</td>\n      <td>0</td>\n      <td>0</td>\n      <td>0</td>\n      <td>...</td>\n      <td>0</td>\n      <td>1</td>\n      <td>0</td>\n      <td>0</td>\n      <td>0</td>\n      <td>1</td>\n      <td>0</td>\n      <td>0</td>\n      <td>0</td>\n      <td>0</td>\n    </tr>\n    <tr>\n      <th>8123</th>\n      <td>1</td>\n      <td>0</td>\n      <td>0</td>\n      <td>0</td>\n      <td>0</td>\n      <td>0</td>\n      <td>0</td>\n      <td>1</td>\n      <td>0</td>\n      <td>0</td>\n      <td>...</td>\n      <td>0</td>\n      <td>0</td>\n      <td>0</td>\n      <td>0</td>\n      <td>0</td>\n      <td>1</td>\n      <td>0</td>\n      <td>0</td>\n      <td>0</td>\n      <td>0</td>\n    </tr>\n  </tbody>\n</table>\n<p>8124 rows × 119 columns</p>\n</div>"
     },
     "execution_count": 35,
     "metadata": {},
     "output_type": "execute_result"
    }
   ],
   "source": [
    "# import data set\n",
    "\n",
    "import os\n",
    "import pandas as pd\n",
    "from sklearn import datasets\n",
    "\n",
    "\n",
    "df = pd.read_csv('agaricus-lepiota.csv')\n",
    "\n",
    "dummies = pd.get_dummies(df)\n",
    "dummies_column_names = list(dummies.columns)\n",
    "dummies\n"
   ],
   "metadata": {
    "collapsed": false,
    "pycharm": {
     "name": "#%%\n"
    }
   }
  },
  {
   "cell_type": "code",
   "execution_count": 36,
   "outputs": [],
   "source": [
    "# KMeans\n",
    "\n",
    "\n"
   ],
   "metadata": {
    "collapsed": false,
    "pycharm": {
     "name": "#%%\n"
    }
   }
  },
  {
   "cell_type": "code",
   "execution_count": 37,
   "outputs": [
    {
     "name": "stdout",
     "output_type": "stream",
     "text": [
      "k=2: 0.180325, 79831.624122\n",
      "k=2: 0.180325, 79831.624122\n",
      "k=3: 0.228323, 67842.898153\n",
      "k=4: 0.230086, 59941.475879\n",
      "k=5: 0.260261, 54434.330410\n",
      "k=6: 0.277307, 50685.125616\n",
      "k=7: 0.290557, 48568.983871\n",
      "k=8: 0.293878, 46759.110531\n",
      "k=9: 0.299881, 45022.490540\n",
      "k=10: 0.246315, 43414.999642\n",
      "k=11: 0.265945, 41984.910925\n",
      "k=12: 0.227609, 41546.510777\n",
      "k=13: 0.201418, 40265.897351\n",
      "k=14: 0.165237, 39294.878325\n",
      "k=15: 0.209116, 38580.498668\n",
      "k=16: 0.215772, 37706.299594\n",
      "k=17: 0.164623, 37298.687538\n",
      "k=18: 0.165921, 36934.752596\n",
      "k=19: 0.170403, 36538.638083\n",
      "k=20: 0.147273, 35895.460906\n",
      "k=21: 0.144111, 35609.547988\n",
      "k=22: 0.150555, 34893.516184\n",
      "k=23: 0.144843, 34653.399788\n",
      "k=24: 0.153907, 33858.943763\n",
      "k=25: 0.157492, 33377.421379\n",
      "k=26: 0.160290, 33026.288767\n",
      "k=27: 0.155413, 32730.246252\n",
      "k=28: 0.158083, 31883.428571\n",
      "k=29: 0.158856, 32050.559820\n",
      "k=30: 0.146792, 31783.758054\n",
      "done in 63.237s\n"
     ]
    }
   ],
   "source": [
    "# evaluate using sillhouette_score\n",
    "\n",
    "from sklearn.cluster import KMeans\n",
    "import numpy as np\n",
    "import matplotlib.pyplot as plt\n",
    "from time import time\n",
    "from sklearn import metrics\n",
    "\n",
    "def uniform_labelings_scores(n_samples, n_clusters_range,\n",
    "                             fixed_n_classes=None, n_runs=5, seed=42):\n",
    "    random_labels = np.random.RandomState(seed).randint\n",
    "    scores = np.zeros((len(n_clusters_range), n_runs))\n",
    "\n",
    "    for i, k in enumerate(n_clusters_range):\n",
    "        km = KMeans(n_clusters=k)\n",
    "        km = km.fit(dummies)\n",
    "        labels = km.labels_\n",
    "        silscore = metrics.silhouette_score(dummies, labels, metric='euclidean')\n",
    "        scores[i] = silscore\n",
    "        print(\"k=%i: %f, %f\"%(k,silscore,km.inertia_))\n",
    "\n",
    "    return scores\n",
    "\n",
    "n_samples = 30\n",
    "samples_divisor = n_samples\n",
    "n_clusters_range = np.linspace(2, n_samples, samples_divisor).astype(np.int)\n",
    "\n",
    "t0 = time()\n",
    "scores = uniform_labelings_scores(n_samples, n_clusters_range)\n",
    "print(\"done in %0.3fs\" % (time() - t0))"
   ],
   "metadata": {
    "collapsed": false,
    "pycharm": {
     "name": "#%%\n"
    }
   }
  },
  {
   "cell_type": "code",
   "execution_count": 38,
   "outputs": [
    {
     "name": "stdout",
     "output_type": "stream",
     "text": [
      "[0.18032497 0.18032497 0.22832287 0.23008597 0.26026137 0.27730679\n",
      " 0.29055744 0.29387813 0.29988119 0.24631543 0.26594536 0.22760897\n",
      " 0.20141817 0.1652373  0.20911567 0.21577247 0.16462272 0.16592145\n",
      " 0.17040298 0.14727328 0.14411074 0.15055524 0.14484326 0.15390733\n",
      " 0.15749215 0.1602897  0.1554131  0.15808327 0.15885573 0.14679191]\n"
     ]
    },
    {
     "data": {
      "text/plain": "Text(0.5, 0, 'number of clusters')"
     },
     "execution_count": 38,
     "metadata": {},
     "output_type": "execute_result"
    },
    {
     "data": {
      "text/plain": "<Figure size 432x288 with 1 Axes>",
      "image/png": "[encoded data removed]"
     },
     "metadata": {
      "needs_background": "light"
     },
     "output_type": "display_data"
    }
   ],
   "source": [
    "# visualize score rating for each number of clusters\n",
    "\n",
    "scores = scores[:, 0]\n",
    "print(scores)\n",
    "plt.plot(scores)\n",
    "plt.ylabel('silhouette score value')\n",
    "plt.xlabel('number of clusters')"
   ],
   "metadata": {
    "collapsed": false,
    "pycharm": {
     "name": "#%%\n"
    }
   }
  },
  {
   "cell_type": "code",
   "execution_count": 40,
   "outputs": [
    {
     "name": "stdout",
     "output_type": "stream",
     "text": [
      "optimal number of clusters: 9\n"
     ]
    },
    {
     "data": {
      "text/plain": "<Figure size 1440x360 with 9 Axes>",
      "image/png": "[encoded data removed]"
     },
     "metadata": {},
     "output_type": "display_data"
    }
   ],
   "source": [
    "# projection for each cluster (horizontal lines) showing distance from center for each of the 119 dummies\n",
    "\n",
    "from sklearn.cluster import KMeans\n",
    "k = np.argmax(scores) + 1\n",
    "print('optimal number of clusters: %d' % k)\n",
    "\n",
    "kmeans = KMeans(n_clusters=k, random_state=0)\n",
    "clusters = kmeans.fit_predict(dummies)\n",
    "\n",
    "fig, ax = plt.subplots(k, 1, figsize=(20, 5))\n",
    "centers = kmeans.cluster_centers_.reshape(k, 1, 119)\n",
    "for axi, center in zip(ax.flat, centers):\n",
    "    axi.set(xticks=[], yticks=[])\n",
    "    axi.imshow(center, interpolation='nearest', cmap=plt.cm.binary)"
   ],
   "metadata": {
    "collapsed": false,
    "pycharm": {
     "name": "#%%\n"
    }
   }
  }
 ],
 "metadata": {
  "kernelspec": {
   "display_name": "Python 3",
   "language": "python",
   "name": "python3"
  },
  "language_info": {
   "codemirror_mode": {
    "name": "ipython",
    "version": 2
   },
   "file_extension": ".py",
   "mimetype": "text/x-python",
   "name": "python",
   "nbconvert_exporter": "python",
   "pygments_lexer": "ipython2",
   "version": "2.7.6"
  }
 },
 "nbformat": 4,
 "nbformat_minor": 0
}