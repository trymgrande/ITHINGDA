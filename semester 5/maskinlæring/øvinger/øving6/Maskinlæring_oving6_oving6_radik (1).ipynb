{
 "cells": [
  {
   "cell_type": "markdown",
   "metadata": {},
   "source": [
    "# Øving 6"
   ]
  },
  {
   "cell_type": "code",
   "execution_count": 8,
   "metadata": {},
   "outputs": [
    {
     "name": "stdout",
     "output_type": "stream",
     "text": [
      "/bin/bash: -c: line 0: syntax error near unexpected token `./weka.png'\n",
      "/bin/bash: -c: line 0: `[](./weka.png)'\n"
     ]
    },
    {
     "data": {
      "text/plain": [
       "0       p\n",
       "1       e\n",
       "2       e\n",
       "3       p\n",
       "4       e\n",
       "       ..\n",
       "8119    e\n",
       "8120    e\n",
       "8121    e\n",
       "8122    p\n",
       "8123    e\n",
       "Name: edibility, Length: 8124, dtype: object"
      ]
     },
     "execution_count": 8,
     "metadata": {},
     "output_type": "execute_result"
    }
   ],
   "source": [
    "# Exercise 6\n",
    "# For this exercise you can use either Python with sklearn or Weka.\n",
    "\n",
    "# Using the UCI mushroom dataset from the last exercise, perform a feature selection using a classifier evaluator. Which features are most discriminitave?\n",
    "# Use principal components analysis to construct a reduced space. Which combination of features explain the most variance in the dataset?\n",
    "# Do you see any overlap between the PCA features and those obtained from feature selection?\n",
    "\n",
    "import pandas as pd\n",
    "\n",
    "![](./weka.png)\n",
    "\n",
    "data = pd.read_csv('./agaricus-lepiota.csv')\n",
    "x = data.copy()\n",
    "y = x.pop('edibility')\n",
    "y\n"
   ]
  },
  {
   "cell_type": "code",
   "execution_count": 17,
   "metadata": {
    "tags": []
   },
   "outputs": [
    {
     "data": {
      "text/plain": [
       "array(['bruises?_t', 'odor_f', 'odor_n', 'gill-size_n', 'gill-color_b',\n",
       "       'stalk-surface-above-ring_k', 'stalk-surface-below-ring_k',\n",
       "       'ring-type_l', 'ring-type_p', 'spore-print-color_h'], dtype=object)"
      ]
     },
     "execution_count": 17,
     "metadata": {},
     "output_type": "execute_result"
    }
   ],
   "source": [
    "# Using the UCI mushroom dataset from the last exercise, perform a feature selection using a classifier evaluator. Which features are most discriminitave?\n",
    "\n",
    "# Selected attributes: 6,8,13,18 : 4\n",
    "#                     odor\n",
    "#                     gill-spacing\n",
    "#                     stalk-surface-above-ring\n",
    "#                     veil-color\n",
    "\n",
    "# Looking at the attributes relative to edibility graphed in weka, we can see that 'bruises?', 'odor', and 'spore-print-color' are relatively discriminative because their values are strictly edible or non-edible for most of the data points.\n",
    "\n",
    "\n",
    "from sklearn.feature_selection import SelectKBest\n",
    "from sklearn.feature_selection import chi2\n",
    "import numpy as np\n",
    "\n",
    "X = pd.get_dummies(x)\n",
    "y = pd.get_dummies(y)\n",
    "X.head()\n",
    "\n",
    "skb = SelectKBest(chi2, k=10)\n",
    "skb.fit(X,y)\n",
    "\n",
    "X_new = skb.transform(X)\n",
    "X_new.shape\n",
    "\n",
    "np.array(X.columns)[skb.get_support(indices=True)]\n"
   ]
  },
  {
   "cell_type": "code",
   "execution_count": 19,
   "metadata": {
    "tags": []
   },
   "outputs": [
    {
     "name": "stdout",
     "output_type": "stream",
     "text": [
      "Original space: (8124, 117)\n",
      "PCA space: (8124, 5)\n",
      "bruises?_f                    0.280687\n",
      "gill-color_b                  0.229633\n",
      "spore-print-color_w           0.226061\n",
      "stalk-root_?                  0.223792\n",
      "stalk-surface-above-ring_k    0.215801\n",
      "Name: 0, dtype: float64\n",
      "\n",
      "spore-print-color_h    0.269686\n",
      "ring-type_l            0.263788\n",
      "stalk-root_b           0.256815\n",
      "odor_f                 0.223614\n",
      "stalk-shape_e          0.213318\n",
      "Name: 1, dtype: float64\n",
      "\n",
      "habitat_g                   0.299450\n",
      "stalk-color-above-ring_w    0.231936\n",
      "gill-spacing_w              0.230401\n",
      "stalk-color-below-ring_w    0.227915\n",
      "stalk-shape_e               0.201046\n",
      "Name: 2, dtype: float64\n",
      "\n",
      "stalk-shape_t     0.349221\n",
      "odor_n            0.273072\n",
      "cap-surface_f     0.253727\n",
      "gill-spacing_w    0.214983\n",
      "stalk-root_e      0.173869\n",
      "Name: 3, dtype: float64\n",
      "\n",
      "odor_n           0.371966\n",
      "stalk-root_?     0.240965\n",
      "ring-number_t    0.224078\n",
      "gill-size_b      0.189014\n",
      "population_c     0.170411\n",
      "Name: 4, dtype: float64\n"
     ]
    },
    {
     "data": {
      "text/plain": [
       "0             bruises?_f\n",
       "1    spore-print-color_h\n",
       "2              habitat_g\n",
       "3          stalk-shape_t\n",
       "4                 odor_n\n",
       "dtype: object"
      ]
     },
     "execution_count": 19,
     "metadata": {},
     "output_type": "execute_result"
    }
   ],
   "source": [
    "# Use principal components analysis to construct a reduced space. Which combination of features explain the most variance in the dataset?\n",
    "# Do you see any overlap between the PCA features and those obtained from feature selection?\n",
    "\n",
    "\n",
    "\n",
    "from sklearn import decomposition\n",
    "\n",
    "print(\"Original space:\",X.shape)\n",
    "pca = decomposition.PCA(n_components=5)\n",
    "pca.fit(X)\n",
    "Xpca = pca.transform(X)\n",
    "\n",
    "print(\"PCA space:\",Xpca.shape)\n",
    "\n",
    "pcaframe = pd.DataFrame(pca.components_, columns=X.columns)\n",
    "print(pcaframe.T[0].nlargest())\n",
    "print()\n",
    "print(pcaframe.T[1].nlargest())\n",
    "print()\n",
    "print(pcaframe.T[2].nlargest())\n",
    "print()\n",
    "print(pcaframe.T[3].nlargest())\n",
    "print()\n",
    "print(pcaframe.T[4].nlargest())\n",
    "pcaframe.T.idxmax()"
   ]
  }
 ],
 "metadata": {
  "kernelspec": {
   "display_name": "Python 3",
   "language": "python",
   "name": "python3"
  },
  "language_info": {
   "codemirror_mode": {
    "name": "ipython",
    "version": 3
   },
   "file_extension": ".py",
   "mimetype": "text/x-python",
   "name": "python",
   "nbconvert_exporter": "python",
   "pygments_lexer": "ipython3",
   "version": "3.8.3"
  }
 },
 "nbformat": 4,
 "nbformat_minor": 4
}
